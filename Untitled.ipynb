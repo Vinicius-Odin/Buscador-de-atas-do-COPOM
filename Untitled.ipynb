{
 "cells": [
  {
   "cell_type": "code",
   "execution_count": 15,
   "id": "e2b15ef3",
   "metadata": {},
   "outputs": [],
   "source": [
    "import pandas as pd\n",
    "import urllib.request, json"
   ]
  },
  {
   "cell_type": "code",
   "execution_count": 16,
   "id": "619d3a67",
   "metadata": {},
   "outputs": [
    {
     "name": "stdout",
     "output_type": "stream",
     "text": [
      "{'conteudo': [{'DataReferencia': '2022-10-26T03:00:00Z', 'ImagemCapa': '/content/publicacoes/PublishingImages/Capas/atascopom/capa-atascopom.png', 'Titulo': '250ª Reunião - 25-26 outubro, 2022', 'Url': '/content/copom/atascopom/Copom250-not20221026250.pdf', 'LinkPagina': '/publicacoes/atascopom/26102022', 'EsconderDataReferencia': True}, {'DataReferencia': '2022-09-21T03:00:00Z', 'ImagemCapa': '/content/publicacoes/PublishingImages/Capas/atascopom/capa-atascopom.png', 'Titulo': '249ª Reunião - 20-21 setembro, 2022', 'Url': '/content/copom/atascopom/Copom249-not20220921249.pdf', 'LinkPagina': '/publicacoes/atascopom/21092022', 'EsconderDataReferencia': True}, {'DataReferencia': '2022-08-03T03:00:00Z', 'ImagemCapa': '/content/publicacoes/PublishingImages/Capas/atascopom/capa-atascopom.png', 'Titulo': '248ª Reunião - 2-3 agosto, 2022', 'Url': '/content/copom/atascopom/Copom248-not20220803248.pdf', 'LinkPagina': '/publicacoes/atascopom/03082022', 'EsconderDataReferencia': True}, {'DataReferencia': '2022-06-15T03:00:00Z', 'ImagemCapa': '/content/publicacoes/PublishingImages/Capas/atascopom/capa-atascopom.png', 'Titulo': '247ª Reunião - 14-15 junho, 2022', 'Url': '/content/copom/atascopom/Copom247-not20220615247.pdf', 'LinkPagina': '/publicacoes/atascopom/15062022', 'EsconderDataReferencia': True}, {'DataReferencia': '2022-05-04T03:00:00Z', 'ImagemCapa': '/content/publicacoes/PublishingImages/Capas/atascopom/capa-atascopom.png', 'Titulo': '246ª Reunião - 3-4 maio, 2022', 'Url': '/content/copom/atascopom/Copom246-not20220504246.pdf', 'LinkPagina': '/publicacoes/atascopom/04052022', 'EsconderDataReferencia': True}, {'DataReferencia': '2022-03-16T03:00:00Z', 'ImagemCapa': '/content/publicacoes/PublishingImages/Capas/atascopom/capa-atascopom.png', 'Titulo': '245ª Reunião - 15-16 março, 2022', 'Url': '/content/copom/atascopom/Copom245-not20220316245.pdf', 'LinkPagina': '/publicacoes/atascopom/16032022', 'EsconderDataReferencia': True}, {'DataReferencia': '2022-02-02T03:00:00Z', 'ImagemCapa': '/content/publicacoes/PublishingImages/Capas/atascopom/capa-atascopom.png', 'Titulo': '244ª Reunião - 1-2 fevereiro, 2022', 'Url': '/content/copom/atascopom/Copom244-not20220202244.pdf', 'LinkPagina': '/publicacoes/atascopom/02022022', 'EsconderDataReferencia': True}, {'DataReferencia': '2021-12-08T03:00:00Z', 'ImagemCapa': '/content/publicacoes/PublishingImages/Capas/atascopom/capa-atascopom.png', 'Titulo': '243ª Reunião - 7-8 dezembro, 2021', 'Url': '/content/copom/atascopom/Copom243-not20211208243.pdf', 'LinkPagina': '/publicacoes/atascopom/08122021', 'EsconderDataReferencia': True}, {'DataReferencia': '2021-10-27T03:00:00Z', 'ImagemCapa': '/content/publicacoes/PublishingImages/Capas/atascopom/capa-atascopom.png', 'Titulo': '242ª Reunião - 26-27 outubro, 2021', 'Url': '/content/copom/atascopom/Copom242-not20211027242.pdf', 'LinkPagina': '/publicacoes/atascopom/27102021', 'EsconderDataReferencia': True}, {'DataReferencia': '2021-09-22T03:00:00Z', 'ImagemCapa': '/content/publicacoes/PublishingImages/Capas/atascopom/capa-atascopom.png', 'Titulo': '241ª Reunião - 21-22 setembro, 2021', 'Url': '/content/copom/atascopom/Copom241-not20210922241.pdf', 'LinkPagina': '/publicacoes/atascopom/22092021', 'EsconderDataReferencia': True}, {'DataReferencia': '2021-08-04T03:00:00Z', 'ImagemCapa': '/content/publicacoes/PublishingImages/Capas/atascopom/capa-atascopom.png', 'Titulo': '240ª Reunião - 3-4 agosto, 2021', 'Url': '/content/copom/atascopom/Copom240-not20210804240.pdf', 'LinkPagina': '/publicacoes/atascopom/04082021', 'EsconderDataReferencia': True}, {'DataReferencia': '2021-06-16T03:00:00Z', 'ImagemCapa': '/content/publicacoes/PublishingImages/Capas/atascopom/capa-atascopom.png', 'Titulo': '239ª Reunião - 15-16 junho, 2021', 'Url': '/content/copom/atascopom/Copom239-not20210616239.pdf', 'LinkPagina': '/publicacoes/atascopom/16062021', 'EsconderDataReferencia': True}, {'DataReferencia': '2021-05-05T03:00:00Z', 'ImagemCapa': '/content/publicacoes/PublishingImages/Capas/atascopom/capa-atascopom.png', 'Titulo': '238ª Reunião - 4-5 maio, 2021', 'Url': '/content/copom/atascopom/Copom238-not20210505238.pdf', 'LinkPagina': '/publicacoes/atascopom/05052021', 'EsconderDataReferencia': True}, {'DataReferencia': '2021-03-17T03:00:00Z', 'ImagemCapa': '/content/publicacoes/PublishingImages/Capas/atascopom/capa-atascopom.png', 'Titulo': '237ª Reunião - 16-17 março, 2021', 'Url': '/content/copom/atascopom/Copom237-not20210317237.pdf', 'LinkPagina': '/publicacoes/atascopom/17032021', 'EsconderDataReferencia': True}, {'DataReferencia': '2021-01-20T03:00:00Z', 'ImagemCapa': '/content/publicacoes/PublishingImages/Capas/atascopom/capa-atascopom.png', 'Titulo': '236ª Reunião - 19-20 janeiro, 2021', 'Url': '/content/copom/atascopom/Copom236-not20210120236.pdf', 'LinkPagina': '/publicacoes/atascopom/20012021', 'EsconderDataReferencia': True}, {'DataReferencia': '2020-12-09T03:00:00Z', 'ImagemCapa': '/content/publicacoes/PublishingImages/Capas/atascopom/capa-atascopom.png', 'Titulo': '235ª Reunião - 8-9 dezembro, 2020', 'Url': '/content/copom/atascopom/Copom235-not20201209235.pdf', 'LinkPagina': '/publicacoes/atascopom/09122020', 'EsconderDataReferencia': True}, {'DataReferencia': '2020-10-28T03:00:00Z', 'ImagemCapa': '/content/publicacoes/PublishingImages/Capas/atascopom/capa-atascopom.png', 'Titulo': '234ª Reunião - 27-28 outubro, 2020', 'Url': '/content/copom/atascopom/Copom234-not20201028234.pdf', 'LinkPagina': '/publicacoes/atascopom/28102020', 'EsconderDataReferencia': True}, {'DataReferencia': '2020-09-16T03:00:00Z', 'ImagemCapa': '/content/publicacoes/PublishingImages/Capas/atascopom/capa-atascopom.png', 'Titulo': '233ª Reunião - 15-16 setembro, 2020', 'Url': '/content/copom/atascopom/Copom233-not20200916233.pdf', 'LinkPagina': '/publicacoes/atascopom/16092020', 'EsconderDataReferencia': True}, {'DataReferencia': '2020-08-05T03:00:00Z', 'ImagemCapa': '/content/publicacoes/PublishingImages/Capas/atascopom/capa-atascopom.png', 'Titulo': '232ª Reunião - 4-5 agosto, 2020', 'Url': '/content/copom/atascopom/Copom232-not20200805232.pdf', 'LinkPagina': '/publicacoes/atascopom/05082020', 'EsconderDataReferencia': True}, {'DataReferencia': '2020-06-17T03:00:00Z', 'ImagemCapa': '/content/publicacoes/PublishingImages/Capas/atascopom/capa-atascopom.png', 'Titulo': '231ª Reunião', 'Url': '/content/copom/atascopom/Copom231-not20200617231.pdf', 'LinkPagina': '/publicacoes/atascopom/17062020', 'EsconderDataReferencia': None}, {'DataReferencia': '2020-05-06T03:00:00Z', 'ImagemCapa': '/content/publicacoes/PublishingImages/Capas/atascopom/capa-atascopom.png', 'Titulo': '230ª Reunião', 'Url': '/content/copom/atascopom/Copom230-not20200506230.pdf', 'LinkPagina': '/publicacoes/atascopom/06052020', 'EsconderDataReferencia': None}, {'DataReferencia': '2020-03-18T03:00:00Z', 'ImagemCapa': '/content/publicacoes/PublishingImages/Capas/atascopom/capa-atascopom.png', 'Titulo': '229ª Reunião', 'Url': '/content/copom/atascopom/Copom229-not20200318229.pdf', 'LinkPagina': '/publicacoes/atascopom/18032020', 'EsconderDataReferencia': None}, {'DataReferencia': '2020-02-05T03:00:00Z', 'ImagemCapa': '/content/publicacoes/PublishingImages/Capas/atascopom/capa-atascopom.png', 'Titulo': '228ª Reunião', 'Url': '/content/copom/atascopom/Copom228-not20200205228.pdf', 'LinkPagina': '/publicacoes/atascopom/05022020', 'EsconderDataReferencia': None}, {'DataReferencia': '2019-12-11T03:00:00Z', 'ImagemCapa': '/content/publicacoes/PublishingImages/Capas/atascopom/capa-atascopom.png', 'Titulo': '227ª Reunião', 'Url': '/content/copom/atascopom/Copom227-not20191211227.pdf', 'LinkPagina': '/publicacoes/atascopom/11122019', 'EsconderDataReferencia': None}, {'DataReferencia': '2019-10-30T03:00:00Z', 'ImagemCapa': '/content/publicacoes/PublishingImages/Capas/atascopom/capa-atascopom.png', 'Titulo': '226ª Reunião', 'Url': '/content/copom/atascopom/Copom226-not20191030226.pdf', 'LinkPagina': '/publicacoes/atascopom/30102019', 'EsconderDataReferencia': None}, {'DataReferencia': '2019-09-18T03:00:00Z', 'ImagemCapa': '/content/publicacoes/PublishingImages/Capas/atascopom/capa-atascopom.png', 'Titulo': '225ª Reunião', 'Url': '/content/copom/atascopom/Copom225-not20190918225.pdf', 'LinkPagina': '/publicacoes/atascopom/18092019', 'EsconderDataReferencia': None}, {'DataReferencia': '2019-07-31T03:00:00Z', 'ImagemCapa': '/content/publicacoes/PublishingImages/Capas/atascopom/capa-atascopom.png', 'Titulo': '224ª Reunião', 'Url': '/content/copom/atascopom/Copom224-not20190731224.pdf', 'LinkPagina': '/publicacoes/atascopom/31072019', 'EsconderDataReferencia': None}, {'DataReferencia': '2019-06-19T03:00:00Z', 'ImagemCapa': '/content/publicacoes/PublishingImages/Capas/atascopom/capa-atascopom.png', 'Titulo': '223ª Reunião', 'Url': '/content/copom/atascopom/Copom223-not20190619223.pdf', 'LinkPagina': '/publicacoes/atascopom/19062019', 'EsconderDataReferencia': None}, {'DataReferencia': '2019-05-08T03:00:00Z', 'ImagemCapa': '/content/publicacoes/PublishingImages/Capas/atascopom/capa-atascopom.png', 'Titulo': '222ª Reunião', 'Url': '/content/copom/atascopom/COPOM222-not20190508222.pdf', 'LinkPagina': '/publicacoes/atascopom/08052019', 'EsconderDataReferencia': None}, {'DataReferencia': '2019-03-20T03:00:00Z', 'ImagemCapa': '/content/publicacoes/PublishingImages/Capas/atascopom/capa-atascopom.png', 'Titulo': '221ª Reunião', 'Url': '/content/copom/atascopom/COPOM221-not20190320221.pdf', 'LinkPagina': '/publicacoes/atascopom/20032019', 'EsconderDataReferencia': None}, {'DataReferencia': '2019-02-06T02:00:00Z', 'ImagemCapa': '/content/publicacoes/PublishingImages/Capas/atascopom/capa-atascopom.png', 'Titulo': '220ª Reunião', 'Url': '/content/copom/atascopom/COPOM220-not20190206220.pdf', 'LinkPagina': '/publicacoes/atascopom/06022019', 'EsconderDataReferencia': None}, {'DataReferencia': '2018-12-12T02:00:00Z', 'ImagemCapa': '/content/publicacoes/PublishingImages/Capas/atascopom/capa-atascopom.png', 'Titulo': '219ª Reunião', 'Url': '/content/copom/atascopom/COPOM219-not20181212219.pdf', 'LinkPagina': '/publicacoes/atascopom/12122018', 'EsconderDataReferencia': None}, {'DataReferencia': '2018-10-31T03:00:00Z', 'ImagemCapa': '/content/publicacoes/PublishingImages/Capas/atascopom/capa-atascopom.png', 'Titulo': '218ª Reunião', 'Url': '/content/copom/atascopom/COPOM218-not20181031218.pdf', 'LinkPagina': '/publicacoes/atascopom/31102018', 'EsconderDataReferencia': None}, {'DataReferencia': '2018-09-19T03:00:00Z', 'ImagemCapa': '/content/publicacoes/PublishingImages/Capas/atascopom/capa-atascopom.png', 'Titulo': '217ª Reunião', 'Url': '/content/copom/atascopom/COPOM217-not20180919217.pdf', 'LinkPagina': '/publicacoes/atascopom/19092018', 'EsconderDataReferencia': None}, {'DataReferencia': '2018-08-01T03:00:00Z', 'ImagemCapa': '/content/publicacoes/PublishingImages/Capas/atascopom/capa-atascopom.png', 'Titulo': '216ª Reunião', 'Url': '/content/copom/atascopom/COPOM216-not20180801216.pdf', 'LinkPagina': '/publicacoes/atascopom/01082018', 'EsconderDataReferencia': None}, {'DataReferencia': '2018-06-20T03:00:00Z', 'ImagemCapa': '/content/publicacoes/PublishingImages/Capas/atascopom/capa-atascopom.png', 'Titulo': '215ª Reunião', 'Url': '/content/copom/atascopom/COPOM215-not20180620215.pdf', 'LinkPagina': '/publicacoes/atascopom/20062018', 'EsconderDataReferencia': None}, {'DataReferencia': '2018-05-16T03:00:00Z', 'ImagemCapa': '/content/publicacoes/PublishingImages/Capas/atascopom/capa-atascopom.png', 'Titulo': '214ª Reunião', 'Url': '/content/copom/atascopom/COPOM214-not20180516214.pdf', 'LinkPagina': '/publicacoes/atascopom/16052018', 'EsconderDataReferencia': None}, {'DataReferencia': '2018-03-21T03:00:00Z', 'ImagemCapa': '/content/publicacoes/PublishingImages/Capas/atascopom/capa-atascopom.png', 'Titulo': '213ª Reunião', 'Url': '/content/copom/atascopom/COPOM213-not20180321213.pdf', 'LinkPagina': '/publicacoes/atascopom/21032018', 'EsconderDataReferencia': None}, {'DataReferencia': '2018-02-07T02:00:00Z', 'ImagemCapa': '/content/publicacoes/PublishingImages/Capas/atascopom/capa-atascopom.png', 'Titulo': '212ª Reunião', 'Url': '/content/copom/atascopom/COPOM212-not20180207212.pdf', 'LinkPagina': '/publicacoes/atascopom/07022018', 'EsconderDataReferencia': None}, {'DataReferencia': '2017-12-06T02:00:00Z', 'ImagemCapa': '/content/publicacoes/PublishingImages/Capas/atascopom/capa-atascopom.png', 'Titulo': '211ª Reunião', 'Url': '/content/copom/atascopom/COPOM211-not20171206211.pdf', 'LinkPagina': '/publicacoes/atascopom/06122017', 'EsconderDataReferencia': None}, {'DataReferencia': '2017-10-25T02:00:00Z', 'ImagemCapa': '/content/publicacoes/PublishingImages/Capas/atascopom/capa-atascopom.png', 'Titulo': '210ª Reunião', 'Url': '/content/copom/atascopom/COPOM210-not20171025210.pdf', 'LinkPagina': '/publicacoes/atascopom/25102017', 'EsconderDataReferencia': None}, {'DataReferencia': '2017-09-06T03:00:00Z', 'ImagemCapa': '/content/publicacoes/PublishingImages/Capas/atascopom/capa-atascopom.png', 'Titulo': '209ª Reunião', 'Url': '/content/copom/atascopom/COPOM209-not20170906209.pdf', 'LinkPagina': '/publicacoes/atascopom/06092017', 'EsconderDataReferencia': None}, {'DataReferencia': '2017-07-26T03:00:00Z', 'ImagemCapa': '/content/publicacoes/PublishingImages/Capas/atascopom/capa-atascopom.png', 'Titulo': '208ª Reunião', 'Url': '/content/copom/atascopom/COPOM208-not20170726208.pdf', 'LinkPagina': '/publicacoes/atascopom/26072017', 'EsconderDataReferencia': None}, {'DataReferencia': '2017-05-31T03:00:00Z', 'ImagemCapa': '/content/publicacoes/PublishingImages/Capas/atascopom/capa-atascopom.png', 'Titulo': '207ª Reunião', 'Url': '/content/copom/atascopom/COPOM207-not20170531207.pdf', 'LinkPagina': '/publicacoes/atascopom/31052017', 'EsconderDataReferencia': None}, {'DataReferencia': '2017-04-12T03:00:00Z', 'ImagemCapa': '/content/publicacoes/PublishingImages/Capas/atascopom/capa-atascopom.png', 'Titulo': '206ª Reunião', 'Url': '/content/copom/atascopom/COPOM206-not20170412206.pdf', 'LinkPagina': '/publicacoes/atascopom/12042017', 'EsconderDataReferencia': None}, {'DataReferencia': '2017-02-22T02:00:00Z', 'ImagemCapa': '/content/publicacoes/PublishingImages/Capas/atascopom/capa-atascopom.png', 'Titulo': '205ª Reunião', 'Url': '/content/copom/atascopom/COPOM205-not20170222205.pdf', 'LinkPagina': '/publicacoes/atascopom/22022017', 'EsconderDataReferencia': None}, {'DataReferencia': '2017-01-11T02:00:00Z', 'ImagemCapa': '/content/publicacoes/PublishingImages/Capas/atascopom/capa-atascopom.png', 'Titulo': '204ª Reunião', 'Url': '/content/copom/atascopom/COPOM204-not20170111204.pdf', 'LinkPagina': '/publicacoes/atascopom/11012017', 'EsconderDataReferencia': None}, {'DataReferencia': '2016-11-30T02:00:00Z', 'ImagemCapa': '/content/publicacoes/PublishingImages/Capas/atascopom/capa-atascopom.png', 'Titulo': '203ª Reunião', 'Url': '/content/copom/atascopom/COPOM203-not20161130203.pdf', 'LinkPagina': '/publicacoes/atascopom/30112016', 'EsconderDataReferencia': None}, {'DataReferencia': '2016-10-19T02:00:00Z', 'ImagemCapa': '/content/publicacoes/PublishingImages/Capas/atascopom/capa-atascopom.png', 'Titulo': '202ª Reunião', 'Url': '/content/copom/atascopom/COPOM202-not20161019202.pdf', 'LinkPagina': '/publicacoes/atascopom/19102016', 'EsconderDataReferencia': None}, {'DataReferencia': '2016-08-31T03:00:00Z', 'ImagemCapa': '/content/publicacoes/PublishingImages/Capas/atascopom/capa-atascopom.png', 'Titulo': '201ª Reunião', 'Url': '/content/copom/atascopom/COPOM201-not20160831201.pdf', 'LinkPagina': '/publicacoes/atascopom/31082016', 'EsconderDataReferencia': None}, {'DataReferencia': '2016-07-20T03:00:00Z', 'ImagemCapa': '/content/publicacoes/PublishingImages/Capas/atascopom/capa-atascopom.png', 'Titulo': '200ª Reunião', 'Url': '/content/copom/atascopom/COPOM200-not20160720200.PDF', 'LinkPagina': '/publicacoes/atascopom/20072016', 'EsconderDataReferencia': None}, {'DataReferencia': '2016-06-08T03:00:00Z', 'ImagemCapa': '/content/publicacoes/PublishingImages/Capas/atascopom/capa-atascopom.png', 'Titulo': '199ª Reunião', 'Url': None, 'LinkPagina': '/publicacoes/atascopom/08062016', 'EsconderDataReferencia': None}, {'DataReferencia': '2016-04-27T03:00:00Z', 'ImagemCapa': '/content/publicacoes/PublishingImages/Capas/atascopom/capa-atascopom.png', 'Titulo': '198ª Reunião', 'Url': None, 'LinkPagina': '/publicacoes/atascopom/27042016', 'EsconderDataReferencia': None}, {'DataReferencia': '2016-03-02T03:00:00Z', 'ImagemCapa': '/content/publicacoes/PublishingImages/Capas/atascopom/capa-atascopom.png', 'Titulo': '197ª Reunião', 'Url': None, 'LinkPagina': '/publicacoes/atascopom/02032016', 'EsconderDataReferencia': None}, {'DataReferencia': '2016-01-20T02:00:00Z', 'ImagemCapa': '/content/publicacoes/PublishingImages/Capas/atascopom/capa-atascopom.png', 'Titulo': '196ª Reunião', 'Url': None, 'LinkPagina': '/publicacoes/atascopom/20012016', 'EsconderDataReferencia': None}, {'DataReferencia': '2015-11-25T02:00:00Z', 'ImagemCapa': '/content/publicacoes/PublishingImages/Capas/atascopom/capa-atascopom.png', 'Titulo': '195ª Reunião', 'Url': None, 'LinkPagina': '/publicacoes/atascopom/25112015', 'EsconderDataReferencia': None}, {'DataReferencia': '2015-10-21T02:00:00Z', 'ImagemCapa': '/content/publicacoes/PublishingImages/Capas/atascopom/capa-atascopom.png', 'Titulo': '194ª Reunião', 'Url': None, 'LinkPagina': '/publicacoes/atascopom/21102015', 'EsconderDataReferencia': None}, {'DataReferencia': '2015-09-02T03:00:00Z', 'ImagemCapa': '/content/publicacoes/PublishingImages/Capas/atascopom/capa-atascopom.png', 'Titulo': '193ª Reunião', 'Url': None, 'LinkPagina': '/publicacoes/atascopom/02092015', 'EsconderDataReferencia': None}, {'DataReferencia': '2015-07-29T03:00:00Z', 'ImagemCapa': '/content/publicacoes/PublishingImages/Capas/atascopom/capa-atascopom.png', 'Titulo': '192ª Reunião', 'Url': None, 'LinkPagina': '/publicacoes/atascopom/29072015', 'EsconderDataReferencia': None}, {'DataReferencia': '2015-06-03T03:00:00Z', 'ImagemCapa': '/content/publicacoes/PublishingImages/Capas/atascopom/capa-atascopom.png', 'Titulo': '191ª Reunião', 'Url': None, 'LinkPagina': '/publicacoes/atascopom/03062015', 'EsconderDataReferencia': None}, {'DataReferencia': '2015-04-29T03:00:00Z', 'ImagemCapa': '/content/publicacoes/PublishingImages/Capas/atascopom/capa-atascopom.png', 'Titulo': '190ª Reunião', 'Url': None, 'LinkPagina': '/publicacoes/atascopom/29042015', 'EsconderDataReferencia': None}, {'DataReferencia': '2015-03-04T03:00:00Z', 'ImagemCapa': '/content/publicacoes/PublishingImages/Capas/atascopom/capa-atascopom.png', 'Titulo': '189ª Reunião', 'Url': None, 'LinkPagina': '/publicacoes/atascopom/04032015', 'EsconderDataReferencia': None}, {'DataReferencia': '2015-01-21T02:00:00Z', 'ImagemCapa': '/content/publicacoes/PublishingImages/Capas/atascopom/capa-atascopom.png', 'Titulo': '188ª Reunião', 'Url': None, 'LinkPagina': '/publicacoes/atascopom/21012015', 'EsconderDataReferencia': None}, {'DataReferencia': '2014-12-03T02:00:00Z', 'ImagemCapa': '/content/publicacoes/PublishingImages/Capas/atascopom/capa-atascopom.png', 'Titulo': '187ª Reunião', 'Url': None, 'LinkPagina': '/publicacoes/atascopom/03122014', 'EsconderDataReferencia': None}, {'DataReferencia': '2014-10-29T02:00:00Z', 'ImagemCapa': '/content/publicacoes/PublishingImages/Capas/atascopom/capa-atascopom.png', 'Titulo': '186ª Reunião', 'Url': None, 'LinkPagina': '/publicacoes/atascopom/29102014', 'EsconderDataReferencia': None}, {'DataReferencia': '2014-09-03T03:00:00Z', 'ImagemCapa': '/content/publicacoes/PublishingImages/Capas/atascopom/capa-atascopom.png', 'Titulo': '185ª Reunião', 'Url': None, 'LinkPagina': '/publicacoes/atascopom/03092014', 'EsconderDataReferencia': None}, {'DataReferencia': '2014-07-16T03:00:00Z', 'ImagemCapa': '/content/publicacoes/PublishingImages/Capas/atascopom/capa-atascopom.png', 'Titulo': '184ª Reunião', 'Url': None, 'LinkPagina': '/publicacoes/atascopom/16072014', 'EsconderDataReferencia': None}, {'DataReferencia': '2014-05-28T03:00:00Z', 'ImagemCapa': '/content/publicacoes/PublishingImages/Capas/atascopom/capa-atascopom.png', 'Titulo': '183ª Reunião', 'Url': None, 'LinkPagina': '/publicacoes/atascopom/28052014', 'EsconderDataReferencia': None}, {'DataReferencia': '2014-04-02T03:00:00Z', 'ImagemCapa': '/content/publicacoes/PublishingImages/Capas/atascopom/capa-atascopom.png', 'Titulo': '182ª Reunião', 'Url': None, 'LinkPagina': '/publicacoes/atascopom/02042014', 'EsconderDataReferencia': None}, {'DataReferencia': '2014-02-26T03:00:00Z', 'ImagemCapa': '/content/publicacoes/PublishingImages/Capas/atascopom/capa-atascopom.png', 'Titulo': '181ª Reunião', 'Url': None, 'LinkPagina': '/publicacoes/atascopom/26022014', 'EsconderDataReferencia': None}, {'DataReferencia': '2014-01-15T02:00:00Z', 'ImagemCapa': '/content/publicacoes/PublishingImages/Capas/atascopom/capa-atascopom.png', 'Titulo': '180ª Reunião', 'Url': None, 'LinkPagina': '/publicacoes/atascopom/15012014', 'EsconderDataReferencia': None}, {'DataReferencia': '2013-11-27T02:00:00Z', 'ImagemCapa': '/content/publicacoes/PublishingImages/Capas/atascopom/capa-atascopom.png', 'Titulo': '179ª Reunião', 'Url': None, 'LinkPagina': '/publicacoes/atascopom/27112013', 'EsconderDataReferencia': None}, {'DataReferencia': '2013-10-09T03:00:00Z', 'ImagemCapa': '/content/publicacoes/PublishingImages/Capas/atascopom/capa-atascopom.png', 'Titulo': '178ª Reunião', 'Url': None, 'LinkPagina': '/publicacoes/atascopom/09102013', 'EsconderDataReferencia': None}, {'DataReferencia': '2013-08-28T03:00:00Z', 'ImagemCapa': '/content/publicacoes/PublishingImages/Capas/atascopom/capa-atascopom.png', 'Titulo': '177ª Reunião', 'Url': None, 'LinkPagina': '/publicacoes/atascopom/28082013', 'EsconderDataReferencia': None}, {'DataReferencia': '2013-07-10T03:00:00Z', 'ImagemCapa': '/content/publicacoes/PublishingImages/Capas/atascopom/capa-atascopom.png', 'Titulo': '176ª Reunião', 'Url': None, 'LinkPagina': '/publicacoes/atascopom/10072013', 'EsconderDataReferencia': None}, {'DataReferencia': '2013-05-29T03:00:00Z', 'ImagemCapa': '/content/publicacoes/PublishingImages/Capas/atascopom/capa-atascopom.png', 'Titulo': '175ª Reunião', 'Url': None, 'LinkPagina': '/publicacoes/atascopom/29052013', 'EsconderDataReferencia': None}, {'DataReferencia': '2013-04-17T03:00:00Z', 'ImagemCapa': '/content/publicacoes/PublishingImages/Capas/atascopom/capa-atascopom.png', 'Titulo': '174ª Reunião', 'Url': None, 'LinkPagina': '/publicacoes/atascopom/17042013', 'EsconderDataReferencia': None}, {'DataReferencia': '2013-03-06T03:00:00Z', 'ImagemCapa': '/content/publicacoes/PublishingImages/Capas/atascopom/capa-atascopom.png', 'Titulo': '173ª Reunião', 'Url': None, 'LinkPagina': '/publicacoes/atascopom/06032013', 'EsconderDataReferencia': None}, {'DataReferencia': '2013-01-16T02:00:00Z', 'ImagemCapa': '/content/publicacoes/PublishingImages/Capas/atascopom/capa-atascopom.png', 'Titulo': '172ª Reunião', 'Url': None, 'LinkPagina': '/publicacoes/atascopom/16012013', 'EsconderDataReferencia': None}, {'DataReferencia': '2012-11-28T02:00:00Z', 'ImagemCapa': '/content/publicacoes/PublishingImages/Capas/atascopom/capa-atascopom.png', 'Titulo': '171ª Reunião', 'Url': None, 'LinkPagina': '/publicacoes/atascopom/28112012', 'EsconderDataReferencia': None}, {'DataReferencia': '2012-10-17T03:00:00Z', 'ImagemCapa': '/content/publicacoes/PublishingImages/Capas/atascopom/capa-atascopom.png', 'Titulo': '170ª Reunião', 'Url': None, 'LinkPagina': '/publicacoes/atascopom/17102012', 'EsconderDataReferencia': None}, {'DataReferencia': '2012-08-29T03:00:00Z', 'ImagemCapa': '/content/publicacoes/PublishingImages/Capas/atascopom/capa-atascopom.png', 'Titulo': '169ª Reunião', 'Url': None, 'LinkPagina': '/publicacoes/atascopom/29082012', 'EsconderDataReferencia': None}, {'DataReferencia': '2012-07-11T03:00:00Z', 'ImagemCapa': '/content/publicacoes/PublishingImages/Capas/atascopom/capa-atascopom.png', 'Titulo': '168ª Reunião', 'Url': None, 'LinkPagina': '/publicacoes/atascopom/11072012', 'EsconderDataReferencia': None}, {'DataReferencia': '2012-05-30T03:00:00Z', 'ImagemCapa': '/content/publicacoes/PublishingImages/Capas/atascopom/capa-atascopom.png', 'Titulo': '167ª Reunião', 'Url': None, 'LinkPagina': '/publicacoes/atascopom/30052012', 'EsconderDataReferencia': None}, {'DataReferencia': '2012-04-18T03:00:00Z', 'ImagemCapa': '/content/publicacoes/PublishingImages/Capas/atascopom/capa-atascopom.png', 'Titulo': '166ª Reunião', 'Url': None, 'LinkPagina': '/publicacoes/atascopom/18042012', 'EsconderDataReferencia': None}, {'DataReferencia': '2012-03-07T03:00:00Z', 'ImagemCapa': '/content/publicacoes/PublishingImages/Capas/atascopom/capa-atascopom.png', 'Titulo': '165ª Reunião', 'Url': None, 'LinkPagina': '/publicacoes/atascopom/07032012', 'EsconderDataReferencia': None}, {'DataReferencia': '2012-01-18T02:00:00Z', 'ImagemCapa': '/content/publicacoes/PublishingImages/Capas/atascopom/capa-atascopom.png', 'Titulo': '164ª Reunião', 'Url': None, 'LinkPagina': '/publicacoes/atascopom/18012012', 'EsconderDataReferencia': None}, {'DataReferencia': '2011-11-30T02:00:00Z', 'ImagemCapa': '/content/publicacoes/PublishingImages/Capas/atascopom/capa-atascopom.png', 'Titulo': '163ª Reunião', 'Url': None, 'LinkPagina': '/publicacoes/atascopom/30112011', 'EsconderDataReferencia': None}, {'DataReferencia': '2011-10-19T02:00:00Z', 'ImagemCapa': '/content/publicacoes/PublishingImages/Capas/atascopom/capa-atascopom.png', 'Titulo': '162ª Reunião', 'Url': None, 'LinkPagina': '/publicacoes/atascopom/19102011', 'EsconderDataReferencia': None}, {'DataReferencia': '2011-08-31T03:00:00Z', 'ImagemCapa': '/content/publicacoes/PublishingImages/Capas/atascopom/capa-atascopom.png', 'Titulo': '161ª Reunião', 'Url': None, 'LinkPagina': '/publicacoes/atascopom/31082011', 'EsconderDataReferencia': None}, {'DataReferencia': '2011-07-20T03:00:00Z', 'ImagemCapa': '/content/publicacoes/PublishingImages/Capas/atascopom/capa-atascopom.png', 'Titulo': '160ª Reunião', 'Url': None, 'LinkPagina': '/publicacoes/atascopom/20072011', 'EsconderDataReferencia': None}, {'DataReferencia': '2011-06-08T03:00:00Z', 'ImagemCapa': '/content/publicacoes/PublishingImages/Capas/atascopom/capa-atascopom.png', 'Titulo': '159ª Reunião', 'Url': None, 'LinkPagina': '/publicacoes/atascopom/08062011', 'EsconderDataReferencia': None}, {'DataReferencia': '2011-04-20T03:00:00Z', 'ImagemCapa': '/content/publicacoes/PublishingImages/Capas/atascopom/capa-atascopom.png', 'Titulo': '158ª Reunião', 'Url': None, 'LinkPagina': '/publicacoes/atascopom/20042011', 'EsconderDataReferencia': None}, {'DataReferencia': '2011-03-02T03:00:00Z', 'ImagemCapa': '/content/publicacoes/PublishingImages/Capas/atascopom/capa-atascopom.png', 'Titulo': '157ª Reunião', 'Url': None, 'LinkPagina': '/publicacoes/atascopom/02032011', 'EsconderDataReferencia': None}, {'DataReferencia': '2011-01-19T02:00:00Z', 'ImagemCapa': '/content/publicacoes/PublishingImages/Capas/atascopom/capa-atascopom.png', 'Titulo': '156ª Reunião', 'Url': None, 'LinkPagina': '/publicacoes/atascopom/19012011', 'EsconderDataReferencia': None}, {'DataReferencia': '2010-12-08T02:00:00Z', 'ImagemCapa': '/content/publicacoes/PublishingImages/Capas/atascopom/capa-atascopom.png', 'Titulo': '155ª Reunião', 'Url': None, 'LinkPagina': '/publicacoes/atascopom/08122010', 'EsconderDataReferencia': None}, {'DataReferencia': '2010-10-20T02:00:00Z', 'ImagemCapa': '/content/publicacoes/PublishingImages/Capas/atascopom/capa-atascopom.png', 'Titulo': '154ª Reunião', 'Url': None, 'LinkPagina': '/publicacoes/atascopom/20102010', 'EsconderDataReferencia': None}, {'DataReferencia': '2010-09-01T03:00:00Z', 'ImagemCapa': '/content/publicacoes/PublishingImages/Capas/atascopom/capa-atascopom.png', 'Titulo': '153ª Reunião', 'Url': None, 'LinkPagina': '/publicacoes/atascopom/01092010', 'EsconderDataReferencia': None}, {'DataReferencia': '2010-07-21T03:00:00Z', 'ImagemCapa': '/content/publicacoes/PublishingImages/Capas/atascopom/capa-atascopom.png', 'Titulo': '152ª Reunião', 'Url': None, 'LinkPagina': '/publicacoes/atascopom/21072010', 'EsconderDataReferencia': None}, {'DataReferencia': '2010-06-09T03:00:00Z', 'ImagemCapa': '/content/publicacoes/PublishingImages/Capas/atascopom/capa-atascopom.png', 'Titulo': '151ª Reunião', 'Url': None, 'LinkPagina': '/publicacoes/atascopom/09062010', 'EsconderDataReferencia': None}, {'DataReferencia': '2010-04-28T03:00:00Z', 'ImagemCapa': '/content/publicacoes/PublishingImages/Capas/atascopom/capa-atascopom.png', 'Titulo': '150ª Reunião', 'Url': None, 'LinkPagina': '/publicacoes/atascopom/28042010', 'EsconderDataReferencia': None}, {'DataReferencia': '2010-03-17T03:00:00Z', 'ImagemCapa': '/content/publicacoes/PublishingImages/Capas/atascopom/capa-atascopom.png', 'Titulo': '149ª Reunião', 'Url': None, 'LinkPagina': '/publicacoes/atascopom/17032010', 'EsconderDataReferencia': None}, {'DataReferencia': '2010-01-27T02:00:00Z', 'ImagemCapa': '/content/publicacoes/PublishingImages/Capas/atascopom/capa-atascopom.png', 'Titulo': '148ª Reunião', 'Url': None, 'LinkPagina': '/publicacoes/atascopom/27012010', 'EsconderDataReferencia': None}, {'DataReferencia': '2009-12-09T02:00:00Z', 'ImagemCapa': '/content/publicacoes/PublishingImages/Capas/atascopom/capa-atascopom.png', 'Titulo': '147ª Reunião', 'Url': None, 'LinkPagina': '/publicacoes/atascopom/09122009', 'EsconderDataReferencia': None}, {'DataReferencia': '2009-10-21T02:00:00Z', 'ImagemCapa': '/content/publicacoes/PublishingImages/Capas/atascopom/capa-atascopom.png', 'Titulo': '146ª Reunião', 'Url': None, 'LinkPagina': '/publicacoes/atascopom/21102009', 'EsconderDataReferencia': None}, {'DataReferencia': '2009-09-02T03:00:00Z', 'ImagemCapa': '/content/publicacoes/PublishingImages/Capas/atascopom/capa-atascopom.png', 'Titulo': '145ª Reunião', 'Url': None, 'LinkPagina': '/publicacoes/atascopom/02092009', 'EsconderDataReferencia': None}, {'DataReferencia': '2009-07-22T03:00:00Z', 'ImagemCapa': '/content/publicacoes/PublishingImages/Capas/atascopom/capa-atascopom.png', 'Titulo': '144ª Reunião', 'Url': None, 'LinkPagina': '/publicacoes/atascopom/22072009', 'EsconderDataReferencia': None}, {'DataReferencia': '2009-06-10T03:00:00Z', 'ImagemCapa': '/content/publicacoes/PublishingImages/Capas/atascopom/capa-atascopom.png', 'Titulo': '143ª Reunião', 'Url': None, 'LinkPagina': '/publicacoes/atascopom/10062009', 'EsconderDataReferencia': None}, {'DataReferencia': '2009-04-29T03:00:00Z', 'ImagemCapa': '/content/publicacoes/PublishingImages/Capas/atascopom/capa-atascopom.png', 'Titulo': '142ª Reunião', 'Url': None, 'LinkPagina': '/publicacoes/atascopom/29042009', 'EsconderDataReferencia': None}, {'DataReferencia': '2009-03-11T03:00:00Z', 'ImagemCapa': '/content/publicacoes/PublishingImages/Capas/atascopom/capa-atascopom.png', 'Titulo': '141ª Reunião', 'Url': None, 'LinkPagina': '/publicacoes/atascopom/11032009', 'EsconderDataReferencia': None}, {'DataReferencia': '2009-01-21T02:00:00Z', 'ImagemCapa': '/content/publicacoes/PublishingImages/Capas/atascopom/capa-atascopom.png', 'Titulo': '140ª Reunião', 'Url': None, 'LinkPagina': '/publicacoes/atascopom/21012009', 'EsconderDataReferencia': None}, {'DataReferencia': '2008-12-10T02:00:00Z', 'ImagemCapa': '/content/publicacoes/PublishingImages/Capas/atascopom/capa-atascopom.png', 'Titulo': '139ª Reunião', 'Url': None, 'LinkPagina': '/publicacoes/atascopom/10122008', 'EsconderDataReferencia': None}, {'DataReferencia': '2008-10-29T02:00:00Z', 'ImagemCapa': '/content/publicacoes/PublishingImages/Capas/atascopom/capa-atascopom.png', 'Titulo': '138ª Reunião', 'Url': None, 'LinkPagina': '/publicacoes/atascopom/29102008', 'EsconderDataReferencia': None}, {'DataReferencia': '2008-09-18T03:00:00Z', 'ImagemCapa': '/content/publicacoes/PublishingImages/Capas/atascopom/capa-atascopom.png', 'Titulo': '137ª Reunião', 'Url': None, 'LinkPagina': '/publicacoes/atascopom/18092008', 'EsconderDataReferencia': None}, {'DataReferencia': '2008-07-29T03:00:00Z', 'ImagemCapa': '/content/publicacoes/PublishingImages/Capas/atascopom/capa-atascopom.png', 'Titulo': '136ª Reunião', 'Url': None, 'LinkPagina': '/publicacoes/atascopom/29072008', 'EsconderDataReferencia': None}, {'DataReferencia': '2008-06-12T03:00:00Z', 'ImagemCapa': '/content/publicacoes/PublishingImages/Capas/atascopom/capa-atascopom.png', 'Titulo': '135ª Reunião', 'Url': None, 'LinkPagina': '/publicacoes/atascopom/12062008', 'EsconderDataReferencia': None}, {'DataReferencia': '2008-04-24T03:00:00Z', 'ImagemCapa': '/content/publicacoes/PublishingImages/Capas/atascopom/capa-atascopom.png', 'Titulo': '134ª Reunião', 'Url': None, 'LinkPagina': '/publicacoes/atascopom/24042008', 'EsconderDataReferencia': None}, {'DataReferencia': '2008-03-05T03:00:00Z', 'ImagemCapa': '/content/publicacoes/PublishingImages/Capas/atascopom/capa-atascopom.png', 'Titulo': '133ª Reunião', 'Url': None, 'LinkPagina': '/publicacoes/atascopom/05032008', 'EsconderDataReferencia': None}, {'DataReferencia': '2008-01-23T02:00:00Z', 'ImagemCapa': '/content/publicacoes/PublishingImages/Capas/atascopom/capa-atascopom.png', 'Titulo': '132ª Reunião', 'Url': None, 'LinkPagina': '/publicacoes/atascopom/23012008', 'EsconderDataReferencia': None}, {'DataReferencia': '2007-12-05T02:00:00Z', 'ImagemCapa': '/content/publicacoes/PublishingImages/Capas/atascopom/capa-atascopom.png', 'Titulo': '131ª Reunião', 'Url': None, 'LinkPagina': '/publicacoes/atascopom/05122007', 'EsconderDataReferencia': None}, {'DataReferencia': '2007-10-25T02:00:00Z', 'ImagemCapa': '/content/publicacoes/PublishingImages/Capas/atascopom/capa-atascopom.png', 'Titulo': '130ª Reunião', 'Url': None, 'LinkPagina': '/publicacoes/atascopom/25102007', 'EsconderDataReferencia': None}, {'DataReferencia': '2007-09-13T03:00:00Z', 'ImagemCapa': '/content/publicacoes/PublishingImages/Capas/atascopom/capa-atascopom.png', 'Titulo': '129ª Reunião', 'Url': None, 'LinkPagina': '/publicacoes/atascopom/13092007', 'EsconderDataReferencia': None}, {'DataReferencia': '2007-07-18T03:00:00Z', 'ImagemCapa': '/content/publicacoes/PublishingImages/Capas/atascopom/capa-atascopom.png', 'Titulo': '128ª Reunião', 'Url': None, 'LinkPagina': '/publicacoes/atascopom/18072007', 'EsconderDataReferencia': None}, {'DataReferencia': '2007-06-06T03:00:00Z', 'ImagemCapa': '/content/publicacoes/PublishingImages/Capas/atascopom/capa-atascopom.png', 'Titulo': '127ª Reunião', 'Url': None, 'LinkPagina': '/publicacoes/atascopom/06062007', 'EsconderDataReferencia': None}, {'DataReferencia': '2007-04-18T03:00:00Z', 'ImagemCapa': '/content/publicacoes/PublishingImages/Capas/atascopom/capa-atascopom.png', 'Titulo': '126ª Reunião', 'Url': None, 'LinkPagina': '/publicacoes/atascopom/18042007', 'EsconderDataReferencia': None}, {'DataReferencia': '2007-03-06T03:00:00Z', 'ImagemCapa': '/content/publicacoes/PublishingImages/Capas/atascopom/capa-atascopom.png', 'Titulo': '125ª Reunião', 'Url': None, 'LinkPagina': '/publicacoes/atascopom/06032007', 'EsconderDataReferencia': None}, {'DataReferencia': '2007-01-31T02:00:00Z', 'ImagemCapa': '/content/publicacoes/PublishingImages/Capas/atascopom/capa-atascopom.png', 'Titulo': '124ª Reunião', 'Url': None, 'LinkPagina': '/publicacoes/atascopom/31012007', 'EsconderDataReferencia': None}, {'DataReferencia': '2006-11-29T02:00:00Z', 'ImagemCapa': '/content/publicacoes/PublishingImages/Capas/atascopom/capa-atascopom.png', 'Titulo': '123ª Reunião', 'Url': None, 'LinkPagina': '/publicacoes/atascopom/29112006', 'EsconderDataReferencia': None}, {'DataReferencia': '2006-10-18T02:00:00Z', 'ImagemCapa': '/content/publicacoes/PublishingImages/Capas/atascopom/capa-atascopom.png', 'Titulo': '122ª Reunião', 'Url': None, 'LinkPagina': '/publicacoes/atascopom/18102006', 'EsconderDataReferencia': None}, {'DataReferencia': '2006-08-30T03:00:00Z', 'ImagemCapa': '/content/publicacoes/PublishingImages/Capas/atascopom/capa-atascopom.png', 'Titulo': '121ª Reunião', 'Url': None, 'LinkPagina': '/publicacoes/atascopom/30082006', 'EsconderDataReferencia': None}, {'DataReferencia': '2006-07-19T03:00:00Z', 'ImagemCapa': '/content/publicacoes/PublishingImages/Capas/atascopom/capa-atascopom.png', 'Titulo': '120ª Reunião', 'Url': None, 'LinkPagina': '/publicacoes/atascopom/19072006', 'EsconderDataReferencia': None}, {'DataReferencia': '2006-05-31T03:00:00Z', 'ImagemCapa': '/content/publicacoes/PublishingImages/Capas/atascopom/capa-atascopom.png', 'Titulo': '119ª Reunião', 'Url': None, 'LinkPagina': '/publicacoes/atascopom/31052006', 'EsconderDataReferencia': None}, {'DataReferencia': '2006-04-19T03:00:00Z', 'ImagemCapa': '/content/publicacoes/PublishingImages/Capas/atascopom/capa-atascopom.png', 'Titulo': '118ª Reunião', 'Url': None, 'LinkPagina': '/publicacoes/atascopom/19042006', 'EsconderDataReferencia': None}, {'DataReferencia': '2006-03-08T03:00:00Z', 'ImagemCapa': '/content/publicacoes/PublishingImages/Capas/atascopom/capa-atascopom.png', 'Titulo': '117ª Reunião', 'Url': None, 'LinkPagina': '/publicacoes/atascopom/08032006', 'EsconderDataReferencia': None}, {'DataReferencia': '2006-01-18T02:00:00Z', 'ImagemCapa': '/content/publicacoes/PublishingImages/Capas/atascopom/capa-atascopom.png', 'Titulo': '116ª Reunião', 'Url': None, 'LinkPagina': '/publicacoes/atascopom/18012006', 'EsconderDataReferencia': None}, {'DataReferencia': '2005-12-14T02:00:00Z', 'ImagemCapa': '/content/publicacoes/PublishingImages/Capas/atascopom/capa-atascopom.png', 'Titulo': '115ª Reunião', 'Url': None, 'LinkPagina': '/publicacoes/atascopom/14122005', 'EsconderDataReferencia': None}, {'DataReferencia': '2005-11-23T02:00:00Z', 'ImagemCapa': '/content/publicacoes/PublishingImages/Capas/atascopom/capa-atascopom.png', 'Titulo': '114ª Reunião', 'Url': None, 'LinkPagina': '/publicacoes/atascopom/23112005', 'EsconderDataReferencia': None}, {'DataReferencia': '2005-10-19T02:00:00Z', 'ImagemCapa': '/content/publicacoes/PublishingImages/Capas/atascopom/capa-atascopom.png', 'Titulo': '113ª Reunião', 'Url': None, 'LinkPagina': '/publicacoes/atascopom/19102005', 'EsconderDataReferencia': None}, {'DataReferencia': '2005-09-14T03:00:00Z', 'ImagemCapa': '/content/publicacoes/PublishingImages/Capas/atascopom/capa-atascopom.png', 'Titulo': '112ª Reunião', 'Url': None, 'LinkPagina': '/publicacoes/atascopom/14092005', 'EsconderDataReferencia': None}, {'DataReferencia': '2005-08-17T03:00:00Z', 'ImagemCapa': '/content/publicacoes/PublishingImages/Capas/atascopom/capa-atascopom.png', 'Titulo': '111ª Reunião', 'Url': None, 'LinkPagina': '/publicacoes/atascopom/17082005', 'EsconderDataReferencia': None}, {'DataReferencia': '2005-07-20T03:00:00Z', 'ImagemCapa': '/content/publicacoes/PublishingImages/Capas/atascopom/capa-atascopom.png', 'Titulo': '110ª Reunião', 'Url': None, 'LinkPagina': '/publicacoes/atascopom/20072005', 'EsconderDataReferencia': None}, {'DataReferencia': '2005-06-15T03:00:00Z', 'ImagemCapa': '/content/publicacoes/PublishingImages/Capas/atascopom/capa-atascopom.png', 'Titulo': '109ª Reunião', 'Url': None, 'LinkPagina': '/publicacoes/atascopom/15062005', 'EsconderDataReferencia': None}, {'DataReferencia': '2005-05-27T03:00:00Z', 'ImagemCapa': '/content/publicacoes/PublishingImages/Capas/atascopom/capa-atascopom.png', 'Titulo': '108ª Reunião', 'Url': None, 'LinkPagina': '/publicacoes/atascopom/27052005', 'EsconderDataReferencia': None}, {'DataReferencia': '2005-04-28T03:00:00Z', 'ImagemCapa': '/content/publicacoes/PublishingImages/Capas/atascopom/capa-atascopom.png', 'Titulo': '107ª Reunião', 'Url': None, 'LinkPagina': '/publicacoes/atascopom/28042005', 'EsconderDataReferencia': None}, {'DataReferencia': '2005-03-16T03:00:00Z', 'ImagemCapa': '/content/publicacoes/PublishingImages/Capas/atascopom/capa-atascopom.png', 'Titulo': '106ª Reunião', 'Url': None, 'LinkPagina': '/publicacoes/atascopom/16032005', 'EsconderDataReferencia': None}, {'DataReferencia': '2005-02-16T03:00:00Z', 'ImagemCapa': '/content/publicacoes/PublishingImages/Capas/atascopom/capa-atascopom.png', 'Titulo': '105ª Reunião', 'Url': None, 'LinkPagina': '/publicacoes/atascopom/16022005', 'EsconderDataReferencia': None}, {'DataReferencia': '2005-01-27T02:00:00Z', 'ImagemCapa': '/content/publicacoes/PublishingImages/Capas/atascopom/capa-atascopom.png', 'Titulo': '104ª Reunião', 'Url': None, 'LinkPagina': '/publicacoes/atascopom/27012005', 'EsconderDataReferencia': None}, {'DataReferencia': '2004-12-15T02:00:00Z', 'ImagemCapa': '/content/publicacoes/PublishingImages/Capas/atascopom/capa-atascopom.png', 'Titulo': '103ª Reunião', 'Url': None, 'LinkPagina': '/publicacoes/atascopom/15122004', 'EsconderDataReferencia': None}, {'DataReferencia': '2004-11-25T02:00:00Z', 'ImagemCapa': '/content/publicacoes/PublishingImages/Capas/atascopom/capa-atascopom.png', 'Titulo': '102ª Reunião', 'Url': None, 'LinkPagina': '/publicacoes/atascopom/25112004', 'EsconderDataReferencia': None}, {'DataReferencia': '2004-10-28T02:00:00Z', 'ImagemCapa': '/content/publicacoes/PublishingImages/Capas/atascopom/capa-atascopom.png', 'Titulo': '101ª Reunião', 'Url': None, 'LinkPagina': '/publicacoes/atascopom/28102004', 'EsconderDataReferencia': None}, {'DataReferencia': '2004-09-15T03:00:00Z', 'ImagemCapa': '/content/publicacoes/PublishingImages/Capas/atascopom/capa-atascopom.png', 'Titulo': '100ª Reunião', 'Url': None, 'LinkPagina': '/publicacoes/atascopom/15092004', 'EsconderDataReferencia': None}, {'DataReferencia': '2004-08-25T03:00:00Z', 'ImagemCapa': '/content/publicacoes/PublishingImages/Capas/atascopom/capa-atascopom.png', 'Titulo': '99ª Reunião', 'Url': None, 'LinkPagina': '/publicacoes/atascopom/25082004', 'EsconderDataReferencia': None}, {'DataReferencia': '2004-07-21T03:00:00Z', 'ImagemCapa': '/content/publicacoes/PublishingImages/Capas/atascopom/capa-atascopom.png', 'Titulo': '98ª Reunião', 'Url': None, 'LinkPagina': '/publicacoes/atascopom/21072004', 'EsconderDataReferencia': None}, {'DataReferencia': '2004-06-16T03:00:00Z', 'ImagemCapa': '/content/publicacoes/PublishingImages/Capas/atascopom/capa-atascopom.png', 'Titulo': '97ª Reunião', 'Url': None, 'LinkPagina': '/publicacoes/atascopom/16062004', 'EsconderDataReferencia': None}, {'DataReferencia': '2004-05-19T03:00:00Z', 'ImagemCapa': '/content/publicacoes/PublishingImages/Capas/atascopom/capa-atascopom.png', 'Titulo': '96ª Reunião', 'Url': None, 'LinkPagina': '/publicacoes/atascopom/19052004', 'EsconderDataReferencia': None}, {'DataReferencia': '2004-04-22T03:00:00Z', 'ImagemCapa': '/content/publicacoes/PublishingImages/Capas/atascopom/capa-atascopom.png', 'Titulo': '95ª Reunião', 'Url': None, 'LinkPagina': '/publicacoes/atascopom/22042004', 'EsconderDataReferencia': None}, {'DataReferencia': '2004-03-25T03:00:00Z', 'ImagemCapa': '/content/publicacoes/PublishingImages/Capas/atascopom/capa-atascopom.png', 'Titulo': '94ª Reunião', 'Url': None, 'LinkPagina': '/publicacoes/atascopom/25032004', 'EsconderDataReferencia': None}, {'DataReferencia': '2004-02-25T03:00:00Z', 'ImagemCapa': '/content/publicacoes/PublishingImages/Capas/atascopom/capa-atascopom.png', 'Titulo': '93ª Reunião', 'Url': None, 'LinkPagina': '/publicacoes/atascopom/25022004', 'EsconderDataReferencia': None}, {'DataReferencia': '2004-01-21T02:00:00Z', 'ImagemCapa': '/content/publicacoes/PublishingImages/Capas/atascopom/capa-atascopom.png', 'Titulo': '92ª Reunião', 'Url': None, 'LinkPagina': '/publicacoes/atascopom/21012004', 'EsconderDataReferencia': None}, {'DataReferencia': '2003-12-17T02:00:00Z', 'ImagemCapa': '/content/publicacoes/PublishingImages/Capas/atascopom/capa-atascopom.png', 'Titulo': '91ª Reunião', 'Url': None, 'LinkPagina': '/publicacoes/atascopom/17122003', 'EsconderDataReferencia': None}, {'DataReferencia': '2003-11-27T02:00:00Z', 'ImagemCapa': '/content/publicacoes/PublishingImages/Capas/atascopom/capa-atascopom.png', 'Titulo': '90ª Reunião', 'Url': None, 'LinkPagina': '/publicacoes/atascopom/27112003', 'EsconderDataReferencia': None}, {'DataReferencia': '2003-10-30T02:00:00Z', 'ImagemCapa': '/content/publicacoes/PublishingImages/Capas/atascopom/capa-atascopom.png', 'Titulo': '89ª Reunião', 'Url': None, 'LinkPagina': '/publicacoes/atascopom/30102003', 'EsconderDataReferencia': None}, {'DataReferencia': '2003-09-24T03:00:00Z', 'ImagemCapa': '/content/publicacoes/PublishingImages/Capas/atascopom/capa-atascopom.png', 'Titulo': '88ª Reunião', 'Url': None, 'LinkPagina': '/publicacoes/atascopom/24092003', 'EsconderDataReferencia': None}, {'DataReferencia': '2003-08-01T03:00:00Z', 'ImagemCapa': '/content/publicacoes/PublishingImages/Capas/atascopom/capa-atascopom.png', 'Titulo': '87ª Reunião', 'Url': None, 'LinkPagina': '/publicacoes/atascopom/01082003', 'EsconderDataReferencia': None}, {'DataReferencia': '2003-07-01T03:00:00Z', 'ImagemCapa': '/content/publicacoes/PublishingImages/Capas/atascopom/capa-atascopom.png', 'Titulo': '86ª Reunião', 'Url': None, 'LinkPagina': '/publicacoes/atascopom/01072003', 'EsconderDataReferencia': None}, {'DataReferencia': '2003-06-01T03:00:00Z', 'ImagemCapa': '/content/publicacoes/PublishingImages/Capas/atascopom/capa-atascopom.png', 'Titulo': '85ª Reunião', 'Url': None, 'LinkPagina': '/publicacoes/atascopom/01062003', 'EsconderDataReferencia': None}, {'DataReferencia': '2003-05-01T03:00:00Z', 'ImagemCapa': '/content/publicacoes/PublishingImages/Capas/atascopom/capa-atascopom.png', 'Titulo': '84ª Reunião', 'Url': None, 'LinkPagina': '/publicacoes/atascopom/01052003', 'EsconderDataReferencia': None}, {'DataReferencia': '2003-04-01T03:00:00Z', 'ImagemCapa': '/content/publicacoes/PublishingImages/Capas/atascopom/capa-atascopom.png', 'Titulo': '83ª Reunião', 'Url': None, 'LinkPagina': '/publicacoes/atascopom/01042003', 'EsconderDataReferencia': None}, {'DataReferencia': '2003-03-01T03:00:00Z', 'ImagemCapa': '/content/publicacoes/PublishingImages/Capas/atascopom/capa-atascopom.png', 'Titulo': '82ª Reunião', 'Url': None, 'LinkPagina': '/publicacoes/atascopom/01032003', 'EsconderDataReferencia': None}, {'DataReferencia': '2003-02-01T02:00:00Z', 'ImagemCapa': '/content/publicacoes/PublishingImages/Capas/atascopom/capa-atascopom.png', 'Titulo': '81ª Reunião', 'Url': None, 'LinkPagina': '/publicacoes/atascopom/01022003', 'EsconderDataReferencia': None}, {'DataReferencia': '2003-01-01T02:00:00Z', 'ImagemCapa': '/content/publicacoes/PublishingImages/Capas/atascopom/capa-atascopom.png', 'Titulo': '80ª Reunião', 'Url': None, 'LinkPagina': '/publicacoes/atascopom/01012003', 'EsconderDataReferencia': None}, {'DataReferencia': '2002-12-01T02:00:00Z', 'ImagemCapa': '/content/publicacoes/PublishingImages/Capas/atascopom/capa-atascopom.png', 'Titulo': '79ª Reunião', 'Url': None, 'LinkPagina': '/publicacoes/atascopom/01122002', 'EsconderDataReferencia': None}, {'DataReferencia': '2002-11-01T02:00:00Z', 'ImagemCapa': '/content/publicacoes/PublishingImages/Capas/atascopom/capa-atascopom.png', 'Titulo': '78ª Reunião', 'Url': None, 'LinkPagina': '/publicacoes/atascopom/01112002', 'EsconderDataReferencia': None}, {'DataReferencia': '2002-10-22T02:00:00Z', 'ImagemCapa': '/content/publicacoes/PublishingImages/Capas/atascopom/capa-atascopom.png', 'Titulo': '77ª Reunião', 'Url': None, 'LinkPagina': '/publicacoes/atascopom/22102002', 'EsconderDataReferencia': None}, {'DataReferencia': '2002-10-14T03:00:00Z', 'ImagemCapa': '/content/publicacoes/PublishingImages/Capas/atascopom/capa-atascopom.png', 'Titulo': '76ª Reunião', 'Url': None, 'LinkPagina': '/publicacoes/atascopom/01102002', 'EsconderDataReferencia': None}, {'DataReferencia': '2002-09-01T03:00:00Z', 'ImagemCapa': '/content/publicacoes/PublishingImages/Capas/atascopom/capa-atascopom.png', 'Titulo': '75ª Reunião', 'Url': None, 'LinkPagina': '/publicacoes/atascopom/01092002', 'EsconderDataReferencia': None}, {'DataReferencia': '2002-08-01T03:00:00Z', 'ImagemCapa': '/content/publicacoes/PublishingImages/Capas/atascopom/capa-atascopom.png', 'Titulo': '74ª Reunião', 'Url': None, 'LinkPagina': '/publicacoes/atascopom/01082002', 'EsconderDataReferencia': None}, {'DataReferencia': '2002-07-01T03:00:00Z', 'ImagemCapa': '/content/publicacoes/PublishingImages/Capas/atascopom/capa-atascopom.png', 'Titulo': '73ª Reunião', 'Url': None, 'LinkPagina': '/publicacoes/atascopom/01072002', 'EsconderDataReferencia': None}, {'DataReferencia': '2002-06-01T03:00:00Z', 'ImagemCapa': '/content/publicacoes/PublishingImages/Capas/atascopom/capa-atascopom.png', 'Titulo': '72ª Reunião', 'Url': None, 'LinkPagina': '/publicacoes/atascopom/01062002', 'EsconderDataReferencia': None}, {'DataReferencia': '2002-05-01T03:00:00Z', 'ImagemCapa': '/content/publicacoes/PublishingImages/Capas/atascopom/capa-atascopom.png', 'Titulo': '71ª Reunião', 'Url': None, 'LinkPagina': '/publicacoes/atascopom/01052002', 'EsconderDataReferencia': None}, {'DataReferencia': '2002-04-01T03:00:00Z', 'ImagemCapa': '/content/publicacoes/PublishingImages/Capas/atascopom/capa-atascopom.png', 'Titulo': '70ª Reunião', 'Url': None, 'LinkPagina': '/publicacoes/atascopom/01042002', 'EsconderDataReferencia': None}, {'DataReferencia': '2002-03-01T03:00:00Z', 'ImagemCapa': '/content/publicacoes/PublishingImages/Capas/atascopom/capa-atascopom.png', 'Titulo': '69ª Reunião', 'Url': None, 'LinkPagina': '/publicacoes/atascopom/01032002', 'EsconderDataReferencia': None}, {'DataReferencia': '2002-02-01T02:00:00Z', 'ImagemCapa': '/content/publicacoes/PublishingImages/Capas/atascopom/capa-atascopom.png', 'Titulo': '68ª Reunião', 'Url': None, 'LinkPagina': '/publicacoes/atascopom/01022002', 'EsconderDataReferencia': None}, {'DataReferencia': '2002-01-01T02:00:00Z', 'ImagemCapa': '/content/publicacoes/PublishingImages/Capas/atascopom/capa-atascopom.png', 'Titulo': '67ª Reunião', 'Url': None, 'LinkPagina': '/publicacoes/atascopom/01012002', 'EsconderDataReferencia': None}, {'DataReferencia': '2001-12-01T02:00:00Z', 'ImagemCapa': '/content/publicacoes/PublishingImages/Capas/atascopom/capa-atascopom.png', 'Titulo': '66ª Reunião', 'Url': None, 'LinkPagina': '/publicacoes/atascopom/01122001', 'EsconderDataReferencia': None}, {'DataReferencia': '2001-11-01T02:00:00Z', 'ImagemCapa': '/content/publicacoes/PublishingImages/Capas/atascopom/capa-atascopom.png', 'Titulo': '65ª Reunião', 'Url': None, 'LinkPagina': '/publicacoes/atascopom/01112001', 'EsconderDataReferencia': None}, {'DataReferencia': '2001-10-01T03:00:00Z', 'ImagemCapa': '/content/publicacoes/PublishingImages/Capas/atascopom/capa-atascopom.png', 'Titulo': '64ª Reunião', 'Url': None, 'LinkPagina': '/publicacoes/atascopom/01102001', 'EsconderDataReferencia': None}, {'DataReferencia': '2001-09-01T03:00:00Z', 'ImagemCapa': '/content/publicacoes/PublishingImages/Capas/atascopom/capa-atascopom.png', 'Titulo': '63ª Reunião', 'Url': None, 'LinkPagina': '/publicacoes/atascopom/01092001', 'EsconderDataReferencia': None}, {'DataReferencia': '2001-08-01T03:00:00Z', 'ImagemCapa': '/content/publicacoes/PublishingImages/Capas/atascopom/capa-atascopom.png', 'Titulo': '62ª Reunião', 'Url': None, 'LinkPagina': '/publicacoes/atascopom/01082001', 'EsconderDataReferencia': None}, {'DataReferencia': '2001-07-01T03:00:00Z', 'ImagemCapa': '/content/publicacoes/PublishingImages/Capas/atascopom/capa-atascopom.png', 'Titulo': '61ª Reunião', 'Url': None, 'LinkPagina': '/publicacoes/atascopom/01072001', 'EsconderDataReferencia': None}, {'DataReferencia': '2001-06-01T03:00:00Z', 'ImagemCapa': '/content/publicacoes/PublishingImages/Capas/atascopom/capa-atascopom.png', 'Titulo': '60ª Reunião', 'Url': None, 'LinkPagina': '/publicacoes/atascopom/01062001', 'EsconderDataReferencia': None}, {'DataReferencia': '2001-05-01T03:00:00Z', 'ImagemCapa': '/content/publicacoes/PublishingImages/Capas/atascopom/capa-atascopom.png', 'Titulo': '59ª Reunião', 'Url': None, 'LinkPagina': '/publicacoes/atascopom/01052001', 'EsconderDataReferencia': None}, {'DataReferencia': '2001-04-01T03:00:00Z', 'ImagemCapa': '/content/publicacoes/PublishingImages/Capas/atascopom/capa-atascopom.png', 'Titulo': '58ª Reunião', 'Url': None, 'LinkPagina': '/publicacoes/atascopom/01042001', 'EsconderDataReferencia': None}, {'DataReferencia': '2001-03-01T03:00:00Z', 'ImagemCapa': '/content/publicacoes/PublishingImages/Capas/atascopom/capa-atascopom.png', 'Titulo': '57ª Reunião', 'Url': None, 'LinkPagina': '/publicacoes/atascopom/01032001', 'EsconderDataReferencia': None}, {'DataReferencia': '2001-02-01T02:00:00Z', 'ImagemCapa': '/content/publicacoes/PublishingImages/Capas/atascopom/capa-atascopom.png', 'Titulo': '56ª Reunião', 'Url': None, 'LinkPagina': '/publicacoes/atascopom/01022001', 'EsconderDataReferencia': None}, {'DataReferencia': '2001-01-01T02:00:00Z', 'ImagemCapa': '/content/publicacoes/PublishingImages/Capas/atascopom/capa-atascopom.png', 'Titulo': '55ª Reunião', 'Url': None, 'LinkPagina': '/publicacoes/atascopom/01012001', 'EsconderDataReferencia': None}, {'DataReferencia': '2000-12-01T02:00:00Z', 'ImagemCapa': '/content/publicacoes/PublishingImages/Capas/atascopom/capa-atascopom.png', 'Titulo': '54ª Reunião', 'Url': None, 'LinkPagina': '/publicacoes/atascopom/01122000', 'EsconderDataReferencia': None}, {'DataReferencia': '2000-11-01T02:00:00Z', 'ImagemCapa': '/content/publicacoes/PublishingImages/Capas/atascopom/capa-atascopom.png', 'Titulo': '53ª Reunião', 'Url': None, 'LinkPagina': '/publicacoes/atascopom/01112000', 'EsconderDataReferencia': None}, {'DataReferencia': '2000-10-01T03:00:00Z', 'ImagemCapa': '/content/publicacoes/PublishingImages/Capas/atascopom/capa-atascopom.png', 'Titulo': '52ª Reunião', 'Url': None, 'LinkPagina': '/publicacoes/atascopom/01102000', 'EsconderDataReferencia': None}, {'DataReferencia': '2000-09-01T03:00:00Z', 'ImagemCapa': '/content/publicacoes/PublishingImages/Capas/atascopom/capa-atascopom.png', 'Titulo': '51ª Reunião', 'Url': None, 'LinkPagina': '/publicacoes/atascopom/01092000', 'EsconderDataReferencia': None}, {'DataReferencia': '2000-08-01T03:00:00Z', 'ImagemCapa': '/content/publicacoes/PublishingImages/Capas/atascopom/capa-atascopom.png', 'Titulo': '50ª Reunião', 'Url': None, 'LinkPagina': '/publicacoes/atascopom/01082000', 'EsconderDataReferencia': None}, {'DataReferencia': '2000-07-01T03:00:00Z', 'ImagemCapa': '/content/publicacoes/PublishingImages/Capas/atascopom/capa-atascopom.png', 'Titulo': '49ª Reunião', 'Url': None, 'LinkPagina': '/publicacoes/atascopom/01072000', 'EsconderDataReferencia': None}, {'DataReferencia': '2000-06-01T03:00:00Z', 'ImagemCapa': '/content/publicacoes/PublishingImages/Capas/atascopom/capa-atascopom.png', 'Titulo': '48ª Reunião', 'Url': None, 'LinkPagina': '/publicacoes/atascopom/01062000', 'EsconderDataReferencia': None}, {'DataReferencia': '2000-05-01T03:00:00Z', 'ImagemCapa': '/content/publicacoes/PublishingImages/Capas/atascopom/capa-atascopom.png', 'Titulo': '47ª Reunião', 'Url': None, 'LinkPagina': '/publicacoes/atascopom/01052000', 'EsconderDataReferencia': None}, {'DataReferencia': '2000-04-01T03:00:00Z', 'ImagemCapa': '/content/publicacoes/PublishingImages/Capas/atascopom/capa-atascopom.png', 'Titulo': '46ª Reunião', 'Url': None, 'LinkPagina': '/publicacoes/atascopom/01042000', 'EsconderDataReferencia': None}, {'DataReferencia': '2000-03-01T03:00:00Z', 'ImagemCapa': '/content/publicacoes/PublishingImages/Capas/atascopom/capa-atascopom.png', 'Titulo': '45ª Reunião', 'Url': None, 'LinkPagina': '/publicacoes/atascopom/01032000', 'EsconderDataReferencia': None}, {'DataReferencia': '2000-02-01T02:00:00Z', 'ImagemCapa': '/content/publicacoes/PublishingImages/Capas/atascopom/capa-atascopom.png', 'Titulo': '44ª Reunião', 'Url': None, 'LinkPagina': '/publicacoes/atascopom/01022000', 'EsconderDataReferencia': None}, {'DataReferencia': '2000-01-01T02:00:00Z', 'ImagemCapa': '/content/publicacoes/PublishingImages/Capas/atascopom/capa-atascopom.png', 'Titulo': '43ª Reunião', 'Url': None, 'LinkPagina': '/publicacoes/atascopom/01012000', 'EsconderDataReferencia': None}, {'DataReferencia': '1999-12-01T02:00:00Z', 'ImagemCapa': '/content/publicacoes/PublishingImages/Capas/atascopom/capa-atascopom.png', 'Titulo': '42ª Reunião', 'Url': None, 'LinkPagina': '/publicacoes/atascopom/01121999', 'EsconderDataReferencia': None}, {'DataReferencia': '1999-11-01T02:00:00Z', 'ImagemCapa': '/content/publicacoes/PublishingImages/Capas/atascopom/capa-atascopom.png', 'Titulo': '41ª Reunião', 'Url': None, 'LinkPagina': '/publicacoes/atascopom/01111999', 'EsconderDataReferencia': None}, {'DataReferencia': '1999-10-01T03:00:00Z', 'ImagemCapa': '/content/publicacoes/PublishingImages/Capas/atascopom/capa-atascopom.png', 'Titulo': '40ª Reunião', 'Url': None, 'LinkPagina': '/publicacoes/atascopom/01101999', 'EsconderDataReferencia': None}, {'DataReferencia': '1999-09-22T03:00:00Z', 'ImagemCapa': '/content/publicacoes/PublishingImages/Capas/atascopom/capa-atascopom.png', 'Titulo': '39ª Reunião (Extraordinária)', 'Url': None, 'LinkPagina': '/publicacoes/atascopom/22091999', 'EsconderDataReferencia': None}, {'DataReferencia': '1999-09-01T03:00:00Z', 'ImagemCapa': '/content/publicacoes/PublishingImages/Capas/atascopom/capa-atascopom.png', 'Titulo': '38ª Reunião', 'Url': None, 'LinkPagina': '/publicacoes/atascopom/01091999', 'EsconderDataReferencia': None}, {'DataReferencia': '1999-07-01T03:00:00Z', 'ImagemCapa': '/content/publicacoes/PublishingImages/Capas/atascopom/capa-atascopom.png', 'Titulo': '37ª Reunião', 'Url': None, 'LinkPagina': '/publicacoes/atascopom/01071999', 'EsconderDataReferencia': None}, {'DataReferencia': '1999-06-01T03:00:00Z', 'ImagemCapa': '/content/publicacoes/PublishingImages/Capas/atascopom/capa-atascopom.png', 'Titulo': '36ª Reunião', 'Url': None, 'LinkPagina': '/publicacoes/atascopom/01061999', 'EsconderDataReferencia': None}, {'DataReferencia': '1999-05-01T03:00:00Z', 'ImagemCapa': '/content/publicacoes/PublishingImages/Capas/atascopom/capa-atascopom.png', 'Titulo': '35ª Reunião', 'Url': None, 'LinkPagina': '/publicacoes/atascopom/01051999', 'EsconderDataReferencia': None}, {'DataReferencia': '1999-04-01T03:00:00Z', 'ImagemCapa': '/content/publicacoes/PublishingImages/Capas/atascopom/capa-atascopom.png', 'Titulo': '34ª Reunião', 'Url': None, 'LinkPagina': '/publicacoes/atascopom/01041999', 'EsconderDataReferencia': None}, {'DataReferencia': '1999-03-03T03:00:00Z', 'ImagemCapa': '/content/publicacoes/PublishingImages/Capas/atascopom/capa-atascopom.png', 'Titulo': '33ª Reunião', 'Url': None, 'LinkPagina': '/publicacoes/atascopom/03031999', 'EsconderDataReferencia': None}, {'DataReferencia': '1999-01-01T02:00:00Z', 'ImagemCapa': '/content/publicacoes/PublishingImages/Capas/atascopom/capa-atascopom.png', 'Titulo': '32ª Reunião', 'Url': None, 'LinkPagina': '/publicacoes/atascopom/01011999', 'EsconderDataReferencia': None}, {'DataReferencia': '1998-12-01T02:00:00Z', 'ImagemCapa': '/content/publicacoes/PublishingImages/Capas/atascopom/capa-atascopom.png', 'Titulo': '31ª Reunião', 'Url': None, 'LinkPagina': '/publicacoes/atascopom/01121998', 'EsconderDataReferencia': None}, {'DataReferencia': '1998-11-01T02:00:00Z', 'ImagemCapa': '/content/publicacoes/PublishingImages/Capas/atascopom/capa-atascopom.png', 'Titulo': '30ª Reunião', 'Url': None, 'LinkPagina': '/publicacoes/atascopom/01111998', 'EsconderDataReferencia': None}, {'DataReferencia': '1998-10-01T03:00:00Z', 'ImagemCapa': '/content/publicacoes/PublishingImages/Capas/atascopom/capa-atascopom.png', 'Titulo': '29ª Reunião', 'Url': None, 'LinkPagina': '/publicacoes/atascopom/01101998', 'EsconderDataReferencia': None}, {'DataReferencia': '1998-09-02T03:00:00Z', 'ImagemCapa': '/content/publicacoes/PublishingImages/Capas/atascopom/capa-atascopom.png', 'Titulo': '28ª Reunião (Extraordinária)', 'Url': None, 'LinkPagina': '/publicacoes/atascopom/02091998', 'EsconderDataReferencia': None}, {'DataReferencia': '1998-09-01T03:00:00Z', 'ImagemCapa': '/content/publicacoes/PublishingImages/Capas/atascopom/capa-atascopom.png', 'Titulo': '27ª Reunião', 'Url': None, 'LinkPagina': '/publicacoes/atascopom/01091998', 'EsconderDataReferencia': None}, {'DataReferencia': '1998-07-01T03:00:00Z', 'ImagemCapa': '/content/publicacoes/PublishingImages/Capas/atascopom/capa-atascopom.png', 'Titulo': '26ª Reunião', 'Url': None, 'LinkPagina': '/publicacoes/atascopom/01071998', 'EsconderDataReferencia': None}, {'DataReferencia': '1998-06-01T03:00:00Z', 'ImagemCapa': '/content/publicacoes/PublishingImages/Capas/atascopom/capa-atascopom.png', 'Titulo': '25ª Reunião', 'Url': None, 'LinkPagina': '/publicacoes/atascopom/01061998', 'EsconderDataReferencia': None}, {'DataReferencia': '1998-05-01T03:00:00Z', 'ImagemCapa': '/content/publicacoes/PublishingImages/Capas/atascopom/capa-atascopom.png', 'Titulo': '24ª Reunião', 'Url': None, 'LinkPagina': '/publicacoes/atascopom/01051998', 'EsconderDataReferencia': None}, {'DataReferencia': '1998-04-01T03:00:00Z', 'ImagemCapa': '/content/publicacoes/PublishingImages/Capas/atascopom/capa-atascopom.png', 'Titulo': '23ª Reunião', 'Url': None, 'LinkPagina': '/publicacoes/atascopom/01041998', 'EsconderDataReferencia': None}, {'DataReferencia': '1998-03-01T03:00:00Z', 'ImagemCapa': '/content/publicacoes/PublishingImages/Capas/atascopom/capa-atascopom.png', 'Titulo': '22ª Reunião', 'Url': None, 'LinkPagina': '/publicacoes/atascopom/01031998', 'EsconderDataReferencia': None}, {'DataReferencia': '1998-01-28T02:00:00Z', 'ImagemCapa': '/content/publicacoes/PublishingImages/Capas/atascopom/capa-atascopom.png', 'Titulo': '21ª Reunião', 'Url': None, 'LinkPagina': '/publicacoes/atascopom/28011998', 'EsconderDataReferencia': None}]}\n"
     ]
    }
   ],
   "source": [
    "url = 'http://www.bcb.gov.br/api/servico/sitebcb/atascopom/ultimas?quantidade=1000&filtro='\n",
    "with urllib.request.urlopen(url) as url:\n",
    "    data = json.load(url)\n",
    "    print(data)"
   ]
  },
  {
   "cell_type": "code",
   "execution_count": 17,
   "id": "c294fea0",
   "metadata": {},
   "outputs": [
    {
     "data": {
      "text/plain": [
       "[{'DataReferencia': '2022-10-26T03:00:00Z',\n",
       "  'ImagemCapa': '/content/publicacoes/PublishingImages/Capas/atascopom/capa-atascopom.png',\n",
       "  'Titulo': '250ª Reunião - 25-26 outubro, 2022',\n",
       "  'Url': '/content/copom/atascopom/Copom250-not20221026250.pdf',\n",
       "  'LinkPagina': '/publicacoes/atascopom/26102022',\n",
       "  'EsconderDataReferencia': True},\n",
       " {'DataReferencia': '2022-09-21T03:00:00Z',\n",
       "  'ImagemCapa': '/content/publicacoes/PublishingImages/Capas/atascopom/capa-atascopom.png',\n",
       "  'Titulo': '249ª Reunião - 20-21 setembro, 2022',\n",
       "  'Url': '/content/copom/atascopom/Copom249-not20220921249.pdf',\n",
       "  'LinkPagina': '/publicacoes/atascopom/21092022',\n",
       "  'EsconderDataReferencia': True},\n",
       " {'DataReferencia': '2022-08-03T03:00:00Z',\n",
       "  'ImagemCapa': '/content/publicacoes/PublishingImages/Capas/atascopom/capa-atascopom.png',\n",
       "  'Titulo': '248ª Reunião - 2-3 agosto, 2022',\n",
       "  'Url': '/content/copom/atascopom/Copom248-not20220803248.pdf',\n",
       "  'LinkPagina': '/publicacoes/atascopom/03082022',\n",
       "  'EsconderDataReferencia': True}]"
      ]
     },
     "execution_count": 17,
     "metadata": {},
     "output_type": "execute_result"
    }
   ],
   "source": [
    "data['conteudo'][0:3]"
   ]
  },
  {
   "cell_type": "code",
   "execution_count": 18,
   "id": "50ec59f6",
   "metadata": {},
   "outputs": [
    {
     "data": {
      "text/html": [
       "<div>\n",
       "<style scoped>\n",
       "    .dataframe tbody tr th:only-of-type {\n",
       "        vertical-align: middle;\n",
       "    }\n",
       "\n",
       "    .dataframe tbody tr th {\n",
       "        vertical-align: top;\n",
       "    }\n",
       "\n",
       "    .dataframe thead th {\n",
       "        text-align: right;\n",
       "    }\n",
       "</style>\n",
       "<table border=\"1\" class=\"dataframe\">\n",
       "  <thead>\n",
       "    <tr style=\"text-align: right;\">\n",
       "      <th></th>\n",
       "      <th>DataReferencia</th>\n",
       "      <th>ImagemCapa</th>\n",
       "      <th>Titulo</th>\n",
       "      <th>Url</th>\n",
       "      <th>LinkPagina</th>\n",
       "      <th>EsconderDataReferencia</th>\n",
       "    </tr>\n",
       "  </thead>\n",
       "  <tbody>\n",
       "    <tr>\n",
       "      <th>0</th>\n",
       "      <td>2022-10-26T03:00:00Z</td>\n",
       "      <td>/content/publicacoes/PublishingImages/Capas/at...</td>\n",
       "      <td>250ª Reunião - 25-26 outubro, 2022</td>\n",
       "      <td>/content/copom/atascopom/Copom250-not202210262...</td>\n",
       "      <td>/publicacoes/atascopom/26102022</td>\n",
       "      <td>True</td>\n",
       "    </tr>\n",
       "    <tr>\n",
       "      <th>1</th>\n",
       "      <td>2022-09-21T03:00:00Z</td>\n",
       "      <td>/content/publicacoes/PublishingImages/Capas/at...</td>\n",
       "      <td>249ª Reunião - 20-21 setembro, 2022</td>\n",
       "      <td>/content/copom/atascopom/Copom249-not202209212...</td>\n",
       "      <td>/publicacoes/atascopom/21092022</td>\n",
       "      <td>True</td>\n",
       "    </tr>\n",
       "    <tr>\n",
       "      <th>2</th>\n",
       "      <td>2022-08-03T03:00:00Z</td>\n",
       "      <td>/content/publicacoes/PublishingImages/Capas/at...</td>\n",
       "      <td>248ª Reunião - 2-3 agosto, 2022</td>\n",
       "      <td>/content/copom/atascopom/Copom248-not202208032...</td>\n",
       "      <td>/publicacoes/atascopom/03082022</td>\n",
       "      <td>True</td>\n",
       "    </tr>\n",
       "    <tr>\n",
       "      <th>3</th>\n",
       "      <td>2022-06-15T03:00:00Z</td>\n",
       "      <td>/content/publicacoes/PublishingImages/Capas/at...</td>\n",
       "      <td>247ª Reunião - 14-15 junho, 2022</td>\n",
       "      <td>/content/copom/atascopom/Copom247-not202206152...</td>\n",
       "      <td>/publicacoes/atascopom/15062022</td>\n",
       "      <td>True</td>\n",
       "    </tr>\n",
       "    <tr>\n",
       "      <th>4</th>\n",
       "      <td>2022-05-04T03:00:00Z</td>\n",
       "      <td>/content/publicacoes/PublishingImages/Capas/at...</td>\n",
       "      <td>246ª Reunião - 3-4 maio, 2022</td>\n",
       "      <td>/content/copom/atascopom/Copom246-not202205042...</td>\n",
       "      <td>/publicacoes/atascopom/04052022</td>\n",
       "      <td>True</td>\n",
       "    </tr>\n",
       "  </tbody>\n",
       "</table>\n",
       "</div>"
      ],
      "text/plain": [
       "         DataReferencia                                         ImagemCapa  \\\n",
       "0  2022-10-26T03:00:00Z  /content/publicacoes/PublishingImages/Capas/at...   \n",
       "1  2022-09-21T03:00:00Z  /content/publicacoes/PublishingImages/Capas/at...   \n",
       "2  2022-08-03T03:00:00Z  /content/publicacoes/PublishingImages/Capas/at...   \n",
       "3  2022-06-15T03:00:00Z  /content/publicacoes/PublishingImages/Capas/at...   \n",
       "4  2022-05-04T03:00:00Z  /content/publicacoes/PublishingImages/Capas/at...   \n",
       "\n",
       "                                Titulo  \\\n",
       "0   250ª Reunião - 25-26 outubro, 2022   \n",
       "1  249ª Reunião - 20-21 setembro, 2022   \n",
       "2      248ª Reunião - 2-3 agosto, 2022   \n",
       "3     247ª Reunião - 14-15 junho, 2022   \n",
       "4        246ª Reunião - 3-4 maio, 2022   \n",
       "\n",
       "                                                 Url  \\\n",
       "0  /content/copom/atascopom/Copom250-not202210262...   \n",
       "1  /content/copom/atascopom/Copom249-not202209212...   \n",
       "2  /content/copom/atascopom/Copom248-not202208032...   \n",
       "3  /content/copom/atascopom/Copom247-not202206152...   \n",
       "4  /content/copom/atascopom/Copom246-not202205042...   \n",
       "\n",
       "                        LinkPagina EsconderDataReferencia  \n",
       "0  /publicacoes/atascopom/26102022                   True  \n",
       "1  /publicacoes/atascopom/21092022                   True  \n",
       "2  /publicacoes/atascopom/03082022                   True  \n",
       "3  /publicacoes/atascopom/15062022                   True  \n",
       "4  /publicacoes/atascopom/04052022                   True  "
      ]
     },
     "execution_count": 18,
     "metadata": {},
     "output_type": "execute_result"
    }
   ],
   "source": [
    "df = pd.DataFrame(data['conteudo'])\n",
    "df.head()"
   ]
  },
  {
   "cell_type": "code",
   "execution_count": 19,
   "id": "b342c5f0",
   "metadata": {},
   "outputs": [
    {
     "data": {
      "text/html": [
       "<div>\n",
       "<style scoped>\n",
       "    .dataframe tbody tr th:only-of-type {\n",
       "        vertical-align: middle;\n",
       "    }\n",
       "\n",
       "    .dataframe tbody tr th {\n",
       "        vertical-align: top;\n",
       "    }\n",
       "\n",
       "    .dataframe thead th {\n",
       "        text-align: right;\n",
       "    }\n",
       "</style>\n",
       "<table border=\"1\" class=\"dataframe\">\n",
       "  <thead>\n",
       "    <tr style=\"text-align: right;\">\n",
       "      <th></th>\n",
       "      <th>DataReferencia</th>\n",
       "      <th>ImagemCapa</th>\n",
       "      <th>Titulo</th>\n",
       "      <th>Url</th>\n",
       "      <th>LinkPagina</th>\n",
       "      <th>EsconderDataReferencia</th>\n",
       "    </tr>\n",
       "  </thead>\n",
       "  <tbody>\n",
       "    <tr>\n",
       "      <th>0</th>\n",
       "      <td>2022-10-26T03:00:00Z</td>\n",
       "      <td>/content/publicacoes/PublishingImages/Capas/at...</td>\n",
       "      <td>250ª Reunião - 25-26 outubro, 2022</td>\n",
       "      <td>/content/copom/atascopom/Copom250-not202210262...</td>\n",
       "      <td>/publicacoes/atascopom/26102022</td>\n",
       "      <td>True</td>\n",
       "    </tr>\n",
       "    <tr>\n",
       "      <th>1</th>\n",
       "      <td>2022-09-21T03:00:00Z</td>\n",
       "      <td>/content/publicacoes/PublishingImages/Capas/at...</td>\n",
       "      <td>249ª Reunião - 20-21 setembro, 2022</td>\n",
       "      <td>/content/copom/atascopom/Copom249-not202209212...</td>\n",
       "      <td>/publicacoes/atascopom/21092022</td>\n",
       "      <td>True</td>\n",
       "    </tr>\n",
       "    <tr>\n",
       "      <th>2</th>\n",
       "      <td>2022-08-03T03:00:00Z</td>\n",
       "      <td>/content/publicacoes/PublishingImages/Capas/at...</td>\n",
       "      <td>248ª Reunião - 2-3 agosto, 2022</td>\n",
       "      <td>/content/copom/atascopom/Copom248-not202208032...</td>\n",
       "      <td>/publicacoes/atascopom/03082022</td>\n",
       "      <td>True</td>\n",
       "    </tr>\n",
       "    <tr>\n",
       "      <th>3</th>\n",
       "      <td>2022-06-15T03:00:00Z</td>\n",
       "      <td>/content/publicacoes/PublishingImages/Capas/at...</td>\n",
       "      <td>247ª Reunião - 14-15 junho, 2022</td>\n",
       "      <td>/content/copom/atascopom/Copom247-not202206152...</td>\n",
       "      <td>/publicacoes/atascopom/15062022</td>\n",
       "      <td>True</td>\n",
       "    </tr>\n",
       "    <tr>\n",
       "      <th>4</th>\n",
       "      <td>2022-05-04T03:00:00Z</td>\n",
       "      <td>/content/publicacoes/PublishingImages/Capas/at...</td>\n",
       "      <td>246ª Reunião - 3-4 maio, 2022</td>\n",
       "      <td>/content/copom/atascopom/Copom246-not202205042...</td>\n",
       "      <td>/publicacoes/atascopom/04052022</td>\n",
       "      <td>True</td>\n",
       "    </tr>\n",
       "    <tr>\n",
       "      <th>5</th>\n",
       "      <td>2022-03-16T03:00:00Z</td>\n",
       "      <td>/content/publicacoes/PublishingImages/Capas/at...</td>\n",
       "      <td>245ª Reunião - 15-16 março, 2022</td>\n",
       "      <td>/content/copom/atascopom/Copom245-not202203162...</td>\n",
       "      <td>/publicacoes/atascopom/16032022</td>\n",
       "      <td>True</td>\n",
       "    </tr>\n",
       "    <tr>\n",
       "      <th>6</th>\n",
       "      <td>2022-02-02T03:00:00Z</td>\n",
       "      <td>/content/publicacoes/PublishingImages/Capas/at...</td>\n",
       "      <td>244ª Reunião - 1-2 fevereiro, 2022</td>\n",
       "      <td>/content/copom/atascopom/Copom244-not202202022...</td>\n",
       "      <td>/publicacoes/atascopom/02022022</td>\n",
       "      <td>True</td>\n",
       "    </tr>\n",
       "  </tbody>\n",
       "</table>\n",
       "</div>"
      ],
      "text/plain": [
       "         DataReferencia                                         ImagemCapa  \\\n",
       "0  2022-10-26T03:00:00Z  /content/publicacoes/PublishingImages/Capas/at...   \n",
       "1  2022-09-21T03:00:00Z  /content/publicacoes/PublishingImages/Capas/at...   \n",
       "2  2022-08-03T03:00:00Z  /content/publicacoes/PublishingImages/Capas/at...   \n",
       "3  2022-06-15T03:00:00Z  /content/publicacoes/PublishingImages/Capas/at...   \n",
       "4  2022-05-04T03:00:00Z  /content/publicacoes/PublishingImages/Capas/at...   \n",
       "5  2022-03-16T03:00:00Z  /content/publicacoes/PublishingImages/Capas/at...   \n",
       "6  2022-02-02T03:00:00Z  /content/publicacoes/PublishingImages/Capas/at...   \n",
       "\n",
       "                                Titulo  \\\n",
       "0   250ª Reunião - 25-26 outubro, 2022   \n",
       "1  249ª Reunião - 20-21 setembro, 2022   \n",
       "2      248ª Reunião - 2-3 agosto, 2022   \n",
       "3     247ª Reunião - 14-15 junho, 2022   \n",
       "4        246ª Reunião - 3-4 maio, 2022   \n",
       "5     245ª Reunião - 15-16 março, 2022   \n",
       "6   244ª Reunião - 1-2 fevereiro, 2022   \n",
       "\n",
       "                                                 Url  \\\n",
       "0  /content/copom/atascopom/Copom250-not202210262...   \n",
       "1  /content/copom/atascopom/Copom249-not202209212...   \n",
       "2  /content/copom/atascopom/Copom248-not202208032...   \n",
       "3  /content/copom/atascopom/Copom247-not202206152...   \n",
       "4  /content/copom/atascopom/Copom246-not202205042...   \n",
       "5  /content/copom/atascopom/Copom245-not202203162...   \n",
       "6  /content/copom/atascopom/Copom244-not202202022...   \n",
       "\n",
       "                        LinkPagina EsconderDataReferencia  \n",
       "0  /publicacoes/atascopom/26102022                   True  \n",
       "1  /publicacoes/atascopom/21092022                   True  \n",
       "2  /publicacoes/atascopom/03082022                   True  \n",
       "3  /publicacoes/atascopom/15062022                   True  \n",
       "4  /publicacoes/atascopom/04052022                   True  \n",
       "5  /publicacoes/atascopom/16032022                   True  \n",
       "6  /publicacoes/atascopom/02022022                   True  "
      ]
     },
     "execution_count": 19,
     "metadata": {},
     "output_type": "execute_result"
    }
   ],
   "source": [
    "df[df.LinkPagina.str.endswith('2022')]"
   ]
  },
  {
   "cell_type": "code",
   "execution_count": 20,
   "id": "fea2ae19",
   "metadata": {},
   "outputs": [
    {
     "data": {
      "text/plain": [
       "['/content/copom/atascopom/Copom250-not20221026250.pdf',\n",
       " '/content/copom/atascopom/Copom249-not20220921249.pdf',\n",
       " '/content/copom/atascopom/Copom248-not20220803248.pdf',\n",
       " '/content/copom/atascopom/Copom247-not20220615247.pdf',\n",
       " '/content/copom/atascopom/Copom246-not20220504246.pdf',\n",
       " '/content/copom/atascopom/Copom245-not20220316245.pdf',\n",
       " '/content/copom/atascopom/Copom244-not20220202244.pdf',\n",
       " '/content/copom/atascopom/Copom243-not20211208243.pdf',\n",
       " '/content/copom/atascopom/Copom242-not20211027242.pdf',\n",
       " '/content/copom/atascopom/Copom241-not20210922241.pdf',\n",
       " '/content/copom/atascopom/Copom240-not20210804240.pdf',\n",
       " '/content/copom/atascopom/Copom239-not20210616239.pdf',\n",
       " '/content/copom/atascopom/Copom238-not20210505238.pdf',\n",
       " '/content/copom/atascopom/Copom237-not20210317237.pdf',\n",
       " '/content/copom/atascopom/Copom236-not20210120236.pdf']"
      ]
     },
     "execution_count": 20,
     "metadata": {},
     "output_type": "execute_result"
    }
   ],
   "source": [
    "lista_urls = df[df.LinkPagina.str.endswith(('2022','2021'))]['Url'].to_list()\n",
    "lista_urls"
   ]
  },
  {
   "cell_type": "code",
   "execution_count": 21,
   "id": "04169836",
   "metadata": {},
   "outputs": [],
   "source": [
    "def download_pdfs(lista_urls):\n",
    "    \n",
    "    lista_arquivos = []\n",
    "    \n",
    "    for url in lista_urls:\n",
    "        nome_arquivo = url[url.rfind('/') + 1:]\n",
    "        urllib.request.urlretrieve('http://www.bcb.gov.br' + url, nome_arquivo)\n",
    "        lista_arquivos.append(nome_arquivo)\n",
    "        \n",
    "    return lista_arquivos"
   ]
  },
  {
   "cell_type": "code",
   "execution_count": 22,
   "id": "27e21351",
   "metadata": {},
   "outputs": [],
   "source": [
    "lista_arquivos = download_pdfs(lista_urls)"
   ]
  },
  {
   "cell_type": "code",
   "execution_count": 23,
   "id": "0ef9003b",
   "metadata": {},
   "outputs": [],
   "source": [
    "import pdfplumber"
   ]
  },
  {
   "cell_type": "code",
   "execution_count": 24,
   "id": "b84e7d1f",
   "metadata": {},
   "outputs": [],
   "source": [
    "def pdf_to_txt(lista_arquivos):\n",
    "    \n",
    "    for arquivo in lista_arquivos:\n",
    "        \n",
    "        with pdfplumber.open('./' + arquivo) as pdf:\n",
    "            paginas = pdf.pages[2:]\n",
    "            texto = ''\n",
    "            \n",
    "            for pagina in paginas:\n",
    "                texto += pagina.extract_text()\n",
    "                \n",
    "            with open(arquivo.replace('.pdf', '.txt'), 'w') as f:\n",
    "                f.write(texto)"
   ]
  },
  {
   "cell_type": "code",
   "execution_count": 25,
   "id": "7411967a",
   "metadata": {},
   "outputs": [],
   "source": [
    "pdf_to_txt(lista_arquivos)"
   ]
  }
 ],
 "metadata": {
  "kernelspec": {
   "display_name": "Python 3 (ipykernel)",
   "language": "python",
   "name": "python3"
  },
  "language_info": {
   "codemirror_mode": {
    "name": "ipython",
    "version": 3
   },
   "file_extension": ".py",
   "mimetype": "text/x-python",
   "name": "python",
   "nbconvert_exporter": "python",
   "pygments_lexer": "ipython3",
   "version": "3.9.12"
  }
 },
 "nbformat": 4,
 "nbformat_minor": 5
}
